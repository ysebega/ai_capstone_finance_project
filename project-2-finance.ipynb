{
 "cells": [
  {
   "cell_type": "markdown",
   "metadata": {},
   "source": [
    "<h1>Artificial Intelligence Engineer - Capstone Project</h1>\n",
    "<hr>\n",
    "Submitted by: Yanda Sebega <br>\n",
    "Date: 28-Mar-2022 <br>\n",
    "Module: Artificial Intelligence Capstone Project <br>\n",
    "Institution: Simplilearn Solutions <br>\n",
    "\n"
   ]
  },
  {
   "cell_type": "markdown",
   "metadata": {},
   "source": [
    "<hr>\n",
    "<h2> Import libraries </h2>"
   ]
  },
  {
   "cell_type": "code",
   "execution_count": 1,
   "metadata": {},
   "outputs": [],
   "source": [
    "# load dataset packages\n",
    "import numpy as np\n",
    "import pandas as pd\n",
    "# EDA Packages...\n",
    "from sklearn.model_selection import (train_test_split, GridSearchCV, RandomizedSearchCV)\n",
    "from sklearn.linear_model import LogisticRegression\n",
    "from sklearn.naive_bayes import GaussianNB\n",
    "from sklearn.svm import LinearSVC\n",
    "from sklearn.metrics import f1_score\n",
    "import matplotlib.pyplot as plt\n",
    "from sklearn.preprocessing import StandardScaler\n",
    "\n",
    "from imblearn.under_sampling import RandomUnderSampler\n",
    "from imblearn.over_sampling import RandomOverSampler\n",
    "\n",
    "# Modelling techniques packages\n",
    "from sklearn.ensemble import RandomForestClassifier\n",
    "from xgboost import XGBClassifier\n",
    "\n",
    "# Applying ANN techniques packages\n",
    "import tensorflow\n",
    "from tensorflow.keras.models import Sequential, Model\n",
    "from tensorflow.keras.layers import (Input, Flatten, Dense, Activation, Dropout)\n",
    "from tensorflow.keras.activations import relu, sigmoid\n",
    "from tensorflow.keras.optimizers import (Adam, RMSprop, SGD)\n",
    "from keras.wrappers.scikit_learn import KerasClassifier\n",
    "\n",
    "# Anomaly detection packages\n",
    "from sklearn.cluster import DBSCAN\n",
    "from scipy.stats import multivariate_normal\n",
    "from sklearn.metrics import roc_auc_score, roc_curve\n",
    "from sklearn.ensemble import IsolationForest\n"
   ]
  },
  {
   "cell_type": "code",
   "execution_count": null,
   "metadata": {},
   "outputs": [],
   "source": []
  },
  {
   "cell_type": "markdown",
   "metadata": {},
   "source": [
    "<hr>\n",
    "<h2> Load dataset </h2>"
   ]
  },
  {
   "cell_type": "code",
   "execution_count": 2,
   "metadata": {},
   "outputs": [],
   "source": [
    "# Reading the datasets\n",
    "train_data = pd.read_csv('data/train_data.csv')\n",
    "test_data = pd.read_csv('data/test_data.csv')\n",
    "test_data_hidden = pd.read_csv('data/test_data_hidden.csv')"
   ]
  },
  {
   "cell_type": "code",
   "execution_count": 3,
   "metadata": {},
   "outputs": [
    {
     "name": "stdout",
     "output_type": "stream",
     "text": [
      "<class 'pandas.core.frame.DataFrame'>\n",
      "RangeIndex: 227845 entries, 0 to 227844\n",
      "Data columns (total 31 columns):\n",
      " #   Column  Non-Null Count   Dtype  \n",
      "---  ------  --------------   -----  \n",
      " 0   Time    227845 non-null  float64\n",
      " 1   V1      227845 non-null  float64\n",
      " 2   V2      227845 non-null  float64\n",
      " 3   V3      227845 non-null  float64\n",
      " 4   V4      227845 non-null  float64\n",
      " 5   V5      227845 non-null  float64\n",
      " 6   V6      227845 non-null  float64\n",
      " 7   V7      227845 non-null  float64\n",
      " 8   V8      227845 non-null  float64\n",
      " 9   V9      227845 non-null  float64\n",
      " 10  V10     227845 non-null  float64\n",
      " 11  V11     227845 non-null  float64\n",
      " 12  V12     227845 non-null  float64\n",
      " 13  V13     227845 non-null  float64\n",
      " 14  V14     227845 non-null  float64\n",
      " 15  V15     227845 non-null  float64\n",
      " 16  V16     227845 non-null  float64\n",
      " 17  V17     227845 non-null  float64\n",
      " 18  V18     227845 non-null  float64\n",
      " 19  V19     227845 non-null  float64\n",
      " 20  V20     227845 non-null  float64\n",
      " 21  V21     227845 non-null  float64\n",
      " 22  V22     227845 non-null  float64\n",
      " 23  V23     227845 non-null  float64\n",
      " 24  V24     227845 non-null  float64\n",
      " 25  V25     227845 non-null  float64\n",
      " 26  V26     227845 non-null  float64\n",
      " 27  V27     227845 non-null  float64\n",
      " 28  V28     227845 non-null  float64\n",
      " 29  Amount  227845 non-null  float64\n",
      " 30  Class   227845 non-null  int64  \n",
      "dtypes: float64(30), int64(1)\n",
      "memory usage: 53.9 MB\n"
     ]
    }
   ],
   "source": [
    "# Getting to know the dataset structure.\n",
    "train_data.info()"
   ]
  },
  {
   "cell_type": "code",
   "execution_count": 4,
   "metadata": {},
   "outputs": [
    {
     "data": {
      "text/plain": [
       "False"
      ]
     },
     "execution_count": 4,
     "metadata": {},
     "output_type": "execute_result"
    }
   ],
   "source": [
    "# Check for missing values in train_data dataset\n",
    "train_data.isnull().values.any()"
   ]
  },
  {
   "cell_type": "code",
   "execution_count": 5,
   "metadata": {},
   "outputs": [
    {
     "data": {
      "text/plain": [
       "False"
      ]
     },
     "execution_count": 5,
     "metadata": {},
     "output_type": "execute_result"
    }
   ],
   "source": [
    "# Check for missing values in test_data dataset\n",
    "test_data.isnull().values.any()"
   ]
  },
  {
   "cell_type": "code",
   "execution_count": 6,
   "metadata": {},
   "outputs": [
    {
     "data": {
      "text/plain": [
       "False"
      ]
     },
     "execution_count": 6,
     "metadata": {},
     "output_type": "execute_result"
    }
   ],
   "source": [
    "# Check for missing values in test_data_hidden dataset\n",
    "test_data_hidden.isnull().values.any()"
   ]
  },
  {
   "cell_type": "markdown",
   "metadata": {},
   "source": [
    "<h2> 1. Exploratory Data Analysis (EDA) </h2>"
   ]
  },
  {
   "cell_type": "markdown",
   "metadata": {},
   "source": [
    "<h3> 1.1. Perform an EDA on the dataset </h3>"
   ]
  },
  {
   "cell_type": "code",
   "execution_count": 7,
   "metadata": {},
   "outputs": [
    {
     "data": {
      "text/plain": [
       "(227845, 31)"
      ]
     },
     "execution_count": 7,
     "metadata": {},
     "output_type": "execute_result"
    }
   ],
   "source": [
    "# Check the shape of the training set\n",
    "train_data.shape"
   ]
  },
  {
   "cell_type": "code",
   "execution_count": 8,
   "metadata": {},
   "outputs": [
    {
     "data": {
      "text/html": [
       "<div>\n",
       "<style scoped>\n",
       "    .dataframe tbody tr th:only-of-type {\n",
       "        vertical-align: middle;\n",
       "    }\n",
       "\n",
       "    .dataframe tbody tr th {\n",
       "        vertical-align: top;\n",
       "    }\n",
       "\n",
       "    .dataframe thead th {\n",
       "        text-align: right;\n",
       "    }\n",
       "</style>\n",
       "<table border=\"1\" class=\"dataframe\">\n",
       "  <thead>\n",
       "    <tr style=\"text-align: right;\">\n",
       "      <th></th>\n",
       "      <th>Time</th>\n",
       "      <th>V1</th>\n",
       "      <th>V2</th>\n",
       "      <th>V3</th>\n",
       "      <th>V4</th>\n",
       "      <th>V5</th>\n",
       "      <th>V6</th>\n",
       "      <th>V7</th>\n",
       "      <th>V8</th>\n",
       "      <th>V9</th>\n",
       "      <th>...</th>\n",
       "      <th>V21</th>\n",
       "      <th>V22</th>\n",
       "      <th>V23</th>\n",
       "      <th>V24</th>\n",
       "      <th>V25</th>\n",
       "      <th>V26</th>\n",
       "      <th>V27</th>\n",
       "      <th>V28</th>\n",
       "      <th>Amount</th>\n",
       "      <th>Class</th>\n",
       "    </tr>\n",
       "  </thead>\n",
       "  <tbody>\n",
       "    <tr>\n",
       "      <th>0</th>\n",
       "      <td>38355.0</td>\n",
       "      <td>1.043949</td>\n",
       "      <td>0.318555</td>\n",
       "      <td>1.045810</td>\n",
       "      <td>2.805989</td>\n",
       "      <td>-0.561113</td>\n",
       "      <td>-0.367956</td>\n",
       "      <td>0.032736</td>\n",
       "      <td>-0.042333</td>\n",
       "      <td>-0.322674</td>\n",
       "      <td>...</td>\n",
       "      <td>-0.240105</td>\n",
       "      <td>-0.680315</td>\n",
       "      <td>0.085328</td>\n",
       "      <td>0.684812</td>\n",
       "      <td>0.318620</td>\n",
       "      <td>-0.204963</td>\n",
       "      <td>0.001662</td>\n",
       "      <td>0.037894</td>\n",
       "      <td>49.67</td>\n",
       "      <td>0</td>\n",
       "    </tr>\n",
       "    <tr>\n",
       "      <th>1</th>\n",
       "      <td>22555.0</td>\n",
       "      <td>-1.665159</td>\n",
       "      <td>0.808440</td>\n",
       "      <td>1.805627</td>\n",
       "      <td>1.903416</td>\n",
       "      <td>-0.821627</td>\n",
       "      <td>0.934790</td>\n",
       "      <td>-0.824802</td>\n",
       "      <td>0.975890</td>\n",
       "      <td>1.747469</td>\n",
       "      <td>...</td>\n",
       "      <td>-0.335332</td>\n",
       "      <td>-0.510994</td>\n",
       "      <td>0.035839</td>\n",
       "      <td>0.147565</td>\n",
       "      <td>-0.529358</td>\n",
       "      <td>-0.566950</td>\n",
       "      <td>-0.595998</td>\n",
       "      <td>-0.220086</td>\n",
       "      <td>16.94</td>\n",
       "      <td>0</td>\n",
       "    </tr>\n",
       "    <tr>\n",
       "      <th>2</th>\n",
       "      <td>2431.0</td>\n",
       "      <td>-0.324096</td>\n",
       "      <td>0.601836</td>\n",
       "      <td>0.865329</td>\n",
       "      <td>-2.138000</td>\n",
       "      <td>0.294663</td>\n",
       "      <td>-1.251553</td>\n",
       "      <td>1.072114</td>\n",
       "      <td>-0.334896</td>\n",
       "      <td>1.071268</td>\n",
       "      <td>...</td>\n",
       "      <td>0.012220</td>\n",
       "      <td>0.352856</td>\n",
       "      <td>-0.341505</td>\n",
       "      <td>-0.145791</td>\n",
       "      <td>0.094194</td>\n",
       "      <td>-0.804026</td>\n",
       "      <td>0.229428</td>\n",
       "      <td>-0.021623</td>\n",
       "      <td>1.00</td>\n",
       "      <td>0</td>\n",
       "    </tr>\n",
       "    <tr>\n",
       "      <th>3</th>\n",
       "      <td>86773.0</td>\n",
       "      <td>-0.258270</td>\n",
       "      <td>1.217501</td>\n",
       "      <td>-0.585348</td>\n",
       "      <td>-0.875347</td>\n",
       "      <td>1.222481</td>\n",
       "      <td>-0.311027</td>\n",
       "      <td>1.073860</td>\n",
       "      <td>-0.161408</td>\n",
       "      <td>0.200665</td>\n",
       "      <td>...</td>\n",
       "      <td>-0.424626</td>\n",
       "      <td>-0.781158</td>\n",
       "      <td>0.019316</td>\n",
       "      <td>0.178614</td>\n",
       "      <td>-0.315616</td>\n",
       "      <td>0.096665</td>\n",
       "      <td>0.269740</td>\n",
       "      <td>-0.020635</td>\n",
       "      <td>10.78</td>\n",
       "      <td>0</td>\n",
       "    </tr>\n",
       "    <tr>\n",
       "      <th>4</th>\n",
       "      <td>127202.0</td>\n",
       "      <td>2.142162</td>\n",
       "      <td>-0.494988</td>\n",
       "      <td>-1.936511</td>\n",
       "      <td>-0.818288</td>\n",
       "      <td>-0.025213</td>\n",
       "      <td>-1.027245</td>\n",
       "      <td>-0.151627</td>\n",
       "      <td>-0.305750</td>\n",
       "      <td>-0.869482</td>\n",
       "      <td>...</td>\n",
       "      <td>0.010115</td>\n",
       "      <td>0.021722</td>\n",
       "      <td>0.079463</td>\n",
       "      <td>-0.480899</td>\n",
       "      <td>0.023846</td>\n",
       "      <td>-0.279076</td>\n",
       "      <td>-0.030121</td>\n",
       "      <td>-0.043888</td>\n",
       "      <td>39.96</td>\n",
       "      <td>0</td>\n",
       "    </tr>\n",
       "  </tbody>\n",
       "</table>\n",
       "<p>5 rows × 31 columns</p>\n",
       "</div>"
      ],
      "text/plain": [
       "       Time        V1        V2        V3        V4        V5        V6  \\\n",
       "0   38355.0  1.043949  0.318555  1.045810  2.805989 -0.561113 -0.367956   \n",
       "1   22555.0 -1.665159  0.808440  1.805627  1.903416 -0.821627  0.934790   \n",
       "2    2431.0 -0.324096  0.601836  0.865329 -2.138000  0.294663 -1.251553   \n",
       "3   86773.0 -0.258270  1.217501 -0.585348 -0.875347  1.222481 -0.311027   \n",
       "4  127202.0  2.142162 -0.494988 -1.936511 -0.818288 -0.025213 -1.027245   \n",
       "\n",
       "         V7        V8        V9  ...       V21       V22       V23       V24  \\\n",
       "0  0.032736 -0.042333 -0.322674  ... -0.240105 -0.680315  0.085328  0.684812   \n",
       "1 -0.824802  0.975890  1.747469  ... -0.335332 -0.510994  0.035839  0.147565   \n",
       "2  1.072114 -0.334896  1.071268  ...  0.012220  0.352856 -0.341505 -0.145791   \n",
       "3  1.073860 -0.161408  0.200665  ... -0.424626 -0.781158  0.019316  0.178614   \n",
       "4 -0.151627 -0.305750 -0.869482  ...  0.010115  0.021722  0.079463 -0.480899   \n",
       "\n",
       "        V25       V26       V27       V28  Amount  Class  \n",
       "0  0.318620 -0.204963  0.001662  0.037894   49.67      0  \n",
       "1 -0.529358 -0.566950 -0.595998 -0.220086   16.94      0  \n",
       "2  0.094194 -0.804026  0.229428 -0.021623    1.00      0  \n",
       "3 -0.315616  0.096665  0.269740 -0.020635   10.78      0  \n",
       "4  0.023846 -0.279076 -0.030121 -0.043888   39.96      0  \n",
       "\n",
       "[5 rows x 31 columns]"
      ]
     },
     "execution_count": 8,
     "metadata": {},
     "output_type": "execute_result"
    }
   ],
   "source": [
    "# View the five first rows\n",
    "train_data.head()"
   ]
  },
  {
   "cell_type": "code",
   "execution_count": 9,
   "metadata": {},
   "outputs": [
    {
     "data": {
      "text/plain": [
       "Index(['Time', 'V1', 'V2', 'V3', 'V4', 'V5', 'V6', 'V7', 'V8', 'V9', 'V10',\n",
       "       'V11', 'V12', 'V13', 'V14', 'V15', 'V16', 'V17', 'V18', 'V19', 'V20',\n",
       "       'V21', 'V22', 'V23', 'V24', 'V25', 'V26', 'V27', 'V28', 'Amount',\n",
       "       'Class'],\n",
       "      dtype='object')"
      ]
     },
     "execution_count": 9,
     "metadata": {},
     "output_type": "execute_result"
    }
   ],
   "source": [
    "# columns of the dataset\n",
    "train_data.columns"
   ]
  },
  {
   "cell_type": "code",
   "execution_count": 10,
   "metadata": {},
   "outputs": [
    {
     "data": {
      "text/plain": [
       "31"
      ]
     },
     "execution_count": 10,
     "metadata": {},
     "output_type": "execute_result"
    }
   ],
   "source": [
    "len(train_data.columns)"
   ]
  },
  {
   "cell_type": "code",
   "execution_count": 11,
   "metadata": {},
   "outputs": [],
   "source": [
    "# Get the latent columns (without time, class or amount) to be inputted in a)\n",
    "# with respective position 0, 29, and 30\n",
    "latent_features = train_data.columns[1:29]\n"
   ]
  },
  {
   "cell_type": "code",
   "execution_count": 12,
   "metadata": {},
   "outputs": [
    {
     "data": {
      "text/plain": [
       "Index(['V1', 'V2', 'V3', 'V4', 'V5', 'V6', 'V7', 'V8', 'V9', 'V10', 'V11',\n",
       "       'V12', 'V13', 'V14', 'V15', 'V16', 'V17', 'V18', 'V19', 'V20', 'V21',\n",
       "       'V22', 'V23', 'V24', 'V25', 'V26', 'V27', 'V28'],\n",
       "      dtype='object')"
      ]
     },
     "execution_count": 12,
     "metadata": {},
     "output_type": "execute_result"
    }
   ],
   "source": [
    "latent_features"
   ]
  },
  {
   "cell_type": "code",
   "execution_count": 13,
   "metadata": {},
   "outputs": [
    {
     "data": {
      "text/html": [
       "<div>\n",
       "<style scoped>\n",
       "    .dataframe tbody tr th:only-of-type {\n",
       "        vertical-align: middle;\n",
       "    }\n",
       "\n",
       "    .dataframe tbody tr th {\n",
       "        vertical-align: top;\n",
       "    }\n",
       "\n",
       "    .dataframe thead th {\n",
       "        text-align: right;\n",
       "    }\n",
       "</style>\n",
       "<table border=\"1\" class=\"dataframe\">\n",
       "  <thead>\n",
       "    <tr style=\"text-align: right;\">\n",
       "      <th></th>\n",
       "      <th>count</th>\n",
       "      <th>mean</th>\n",
       "      <th>std</th>\n",
       "      <th>min</th>\n",
       "      <th>25%</th>\n",
       "      <th>50%</th>\n",
       "      <th>75%</th>\n",
       "      <th>max</th>\n",
       "    </tr>\n",
       "  </thead>\n",
       "  <tbody>\n",
       "    <tr>\n",
       "      <th>V1</th>\n",
       "      <td>227845.0</td>\n",
       "      <td>-0.003321</td>\n",
       "      <td>1.963028</td>\n",
       "      <td>-56.407510</td>\n",
       "      <td>-0.922851</td>\n",
       "      <td>0.012663</td>\n",
       "      <td>1.314821</td>\n",
       "      <td>2.454930</td>\n",
       "    </tr>\n",
       "    <tr>\n",
       "      <th>V2</th>\n",
       "      <td>227845.0</td>\n",
       "      <td>-0.001652</td>\n",
       "      <td>1.661178</td>\n",
       "      <td>-72.715728</td>\n",
       "      <td>-0.598040</td>\n",
       "      <td>0.066665</td>\n",
       "      <td>0.804401</td>\n",
       "      <td>22.057729</td>\n",
       "    </tr>\n",
       "    <tr>\n",
       "      <th>V3</th>\n",
       "      <td>227845.0</td>\n",
       "      <td>0.001066</td>\n",
       "      <td>1.516107</td>\n",
       "      <td>-32.965346</td>\n",
       "      <td>-0.889246</td>\n",
       "      <td>0.182170</td>\n",
       "      <td>1.029449</td>\n",
       "      <td>9.382558</td>\n",
       "    </tr>\n",
       "    <tr>\n",
       "      <th>V4</th>\n",
       "      <td>227845.0</td>\n",
       "      <td>-0.000374</td>\n",
       "      <td>1.415061</td>\n",
       "      <td>-5.683171</td>\n",
       "      <td>-0.848884</td>\n",
       "      <td>-0.019309</td>\n",
       "      <td>0.744822</td>\n",
       "      <td>16.875344</td>\n",
       "    </tr>\n",
       "    <tr>\n",
       "      <th>V5</th>\n",
       "      <td>227845.0</td>\n",
       "      <td>0.000877</td>\n",
       "      <td>1.367074</td>\n",
       "      <td>-42.147898</td>\n",
       "      <td>-0.690811</td>\n",
       "      <td>-0.055243</td>\n",
       "      <td>0.610852</td>\n",
       "      <td>34.801666</td>\n",
       "    </tr>\n",
       "    <tr>\n",
       "      <th>V6</th>\n",
       "      <td>227845.0</td>\n",
       "      <td>0.000770</td>\n",
       "      <td>1.325341</td>\n",
       "      <td>-26.160506</td>\n",
       "      <td>-0.767803</td>\n",
       "      <td>-0.273025</td>\n",
       "      <td>0.400298</td>\n",
       "      <td>22.529298</td>\n",
       "    </tr>\n",
       "    <tr>\n",
       "      <th>V7</th>\n",
       "      <td>227845.0</td>\n",
       "      <td>-0.000035</td>\n",
       "      <td>1.220384</td>\n",
       "      <td>-43.557242</td>\n",
       "      <td>-0.554761</td>\n",
       "      <td>0.040409</td>\n",
       "      <td>0.570631</td>\n",
       "      <td>36.877368</td>\n",
       "    </tr>\n",
       "    <tr>\n",
       "      <th>V8</th>\n",
       "      <td>227845.0</td>\n",
       "      <td>0.001625</td>\n",
       "      <td>1.192648</td>\n",
       "      <td>-73.216718</td>\n",
       "      <td>-0.207838</td>\n",
       "      <td>0.022928</td>\n",
       "      <td>0.327854</td>\n",
       "      <td>20.007208</td>\n",
       "    </tr>\n",
       "    <tr>\n",
       "      <th>V9</th>\n",
       "      <td>227845.0</td>\n",
       "      <td>-0.000391</td>\n",
       "      <td>1.097367</td>\n",
       "      <td>-13.434066</td>\n",
       "      <td>-0.643365</td>\n",
       "      <td>-0.050932</td>\n",
       "      <td>0.596671</td>\n",
       "      <td>15.594995</td>\n",
       "    </tr>\n",
       "    <tr>\n",
       "      <th>V10</th>\n",
       "      <td>227845.0</td>\n",
       "      <td>-0.000794</td>\n",
       "      <td>1.087268</td>\n",
       "      <td>-24.588262</td>\n",
       "      <td>-0.535584</td>\n",
       "      <td>-0.092068</td>\n",
       "      <td>0.454152</td>\n",
       "      <td>23.745136</td>\n",
       "    </tr>\n",
       "    <tr>\n",
       "      <th>V11</th>\n",
       "      <td>227845.0</td>\n",
       "      <td>0.002083</td>\n",
       "      <td>1.021904</td>\n",
       "      <td>-4.797473</td>\n",
       "      <td>-0.761131</td>\n",
       "      <td>-0.029443</td>\n",
       "      <td>0.742611</td>\n",
       "      <td>11.669205</td>\n",
       "    </tr>\n",
       "    <tr>\n",
       "      <th>V12</th>\n",
       "      <td>227845.0</td>\n",
       "      <td>0.000010</td>\n",
       "      <td>0.999581</td>\n",
       "      <td>-18.683715</td>\n",
       "      <td>-0.405535</td>\n",
       "      <td>0.139894</td>\n",
       "      <td>0.618511</td>\n",
       "      <td>7.848392</td>\n",
       "    </tr>\n",
       "    <tr>\n",
       "      <th>V13</th>\n",
       "      <td>227845.0</td>\n",
       "      <td>0.000080</td>\n",
       "      <td>0.995449</td>\n",
       "      <td>-5.791881</td>\n",
       "      <td>-0.648764</td>\n",
       "      <td>-0.013522</td>\n",
       "      <td>0.661026</td>\n",
       "      <td>4.465413</td>\n",
       "    </tr>\n",
       "    <tr>\n",
       "      <th>V14</th>\n",
       "      <td>227845.0</td>\n",
       "      <td>0.000928</td>\n",
       "      <td>0.959575</td>\n",
       "      <td>-18.822087</td>\n",
       "      <td>-0.425889</td>\n",
       "      <td>0.051501</td>\n",
       "      <td>0.494565</td>\n",
       "      <td>10.526766</td>\n",
       "    </tr>\n",
       "    <tr>\n",
       "      <th>V15</th>\n",
       "      <td>227845.0</td>\n",
       "      <td>-0.000737</td>\n",
       "      <td>0.916011</td>\n",
       "      <td>-4.498945</td>\n",
       "      <td>-0.584681</td>\n",
       "      <td>0.047049</td>\n",
       "      <td>0.648813</td>\n",
       "      <td>5.825654</td>\n",
       "    </tr>\n",
       "    <tr>\n",
       "      <th>V16</th>\n",
       "      <td>227845.0</td>\n",
       "      <td>0.000433</td>\n",
       "      <td>0.875795</td>\n",
       "      <td>-14.129855</td>\n",
       "      <td>-0.467035</td>\n",
       "      <td>0.066470</td>\n",
       "      <td>0.523828</td>\n",
       "      <td>8.289890</td>\n",
       "    </tr>\n",
       "    <tr>\n",
       "      <th>V17</th>\n",
       "      <td>227845.0</td>\n",
       "      <td>-0.000007</td>\n",
       "      <td>0.851222</td>\n",
       "      <td>-25.162799</td>\n",
       "      <td>-0.483527</td>\n",
       "      <td>-0.065414</td>\n",
       "      <td>0.399023</td>\n",
       "      <td>9.253526</td>\n",
       "    </tr>\n",
       "    <tr>\n",
       "      <th>V18</th>\n",
       "      <td>227845.0</td>\n",
       "      <td>-0.000831</td>\n",
       "      <td>0.838685</td>\n",
       "      <td>-9.498746</td>\n",
       "      <td>-0.499177</td>\n",
       "      <td>-0.003007</td>\n",
       "      <td>0.500374</td>\n",
       "      <td>5.041069</td>\n",
       "    </tr>\n",
       "    <tr>\n",
       "      <th>V19</th>\n",
       "      <td>227845.0</td>\n",
       "      <td>-0.000191</td>\n",
       "      <td>0.812614</td>\n",
       "      <td>-7.213527</td>\n",
       "      <td>-0.456437</td>\n",
       "      <td>0.003772</td>\n",
       "      <td>0.458964</td>\n",
       "      <td>5.572113</td>\n",
       "    </tr>\n",
       "    <tr>\n",
       "      <th>V20</th>\n",
       "      <td>227845.0</td>\n",
       "      <td>0.000671</td>\n",
       "      <td>0.772535</td>\n",
       "      <td>-28.009635</td>\n",
       "      <td>-0.211753</td>\n",
       "      <td>-0.062660</td>\n",
       "      <td>0.133600</td>\n",
       "      <td>39.420904</td>\n",
       "    </tr>\n",
       "    <tr>\n",
       "      <th>V21</th>\n",
       "      <td>227845.0</td>\n",
       "      <td>0.000563</td>\n",
       "      <td>0.734187</td>\n",
       "      <td>-34.830382</td>\n",
       "      <td>-0.228031</td>\n",
       "      <td>-0.028807</td>\n",
       "      <td>0.186852</td>\n",
       "      <td>27.202839</td>\n",
       "    </tr>\n",
       "    <tr>\n",
       "      <th>V22</th>\n",
       "      <td>227845.0</td>\n",
       "      <td>0.001234</td>\n",
       "      <td>0.724544</td>\n",
       "      <td>-10.933144</td>\n",
       "      <td>-0.540792</td>\n",
       "      <td>0.008697</td>\n",
       "      <td>0.529535</td>\n",
       "      <td>10.503090</td>\n",
       "    </tr>\n",
       "    <tr>\n",
       "      <th>V23</th>\n",
       "      <td>227845.0</td>\n",
       "      <td>-0.001002</td>\n",
       "      <td>0.625165</td>\n",
       "      <td>-44.807735</td>\n",
       "      <td>-0.162264</td>\n",
       "      <td>-0.011614</td>\n",
       "      <td>0.147067</td>\n",
       "      <td>22.528412</td>\n",
       "    </tr>\n",
       "    <tr>\n",
       "      <th>V24</th>\n",
       "      <td>227845.0</td>\n",
       "      <td>0.000254</td>\n",
       "      <td>0.606012</td>\n",
       "      <td>-2.836627</td>\n",
       "      <td>-0.354099</td>\n",
       "      <td>0.041212</td>\n",
       "      <td>0.440051</td>\n",
       "      <td>4.022866</td>\n",
       "    </tr>\n",
       "    <tr>\n",
       "      <th>V25</th>\n",
       "      <td>227845.0</td>\n",
       "      <td>0.000218</td>\n",
       "      <td>0.521348</td>\n",
       "      <td>-10.295397</td>\n",
       "      <td>-0.317450</td>\n",
       "      <td>0.016221</td>\n",
       "      <td>0.351214</td>\n",
       "      <td>6.070850</td>\n",
       "    </tr>\n",
       "    <tr>\n",
       "      <th>V26</th>\n",
       "      <td>227845.0</td>\n",
       "      <td>-0.001128</td>\n",
       "      <td>0.482314</td>\n",
       "      <td>-2.604551</td>\n",
       "      <td>-0.327910</td>\n",
       "      <td>-0.053257</td>\n",
       "      <td>0.239885</td>\n",
       "      <td>3.463246</td>\n",
       "    </tr>\n",
       "    <tr>\n",
       "      <th>V27</th>\n",
       "      <td>227845.0</td>\n",
       "      <td>-0.000346</td>\n",
       "      <td>0.400286</td>\n",
       "      <td>-22.565679</td>\n",
       "      <td>-0.070986</td>\n",
       "      <td>0.001315</td>\n",
       "      <td>0.091105</td>\n",
       "      <td>12.152401</td>\n",
       "    </tr>\n",
       "    <tr>\n",
       "      <th>V28</th>\n",
       "      <td>227845.0</td>\n",
       "      <td>0.000498</td>\n",
       "      <td>0.331184</td>\n",
       "      <td>-11.710896</td>\n",
       "      <td>-0.053117</td>\n",
       "      <td>0.011216</td>\n",
       "      <td>0.078458</td>\n",
       "      <td>33.847808</td>\n",
       "    </tr>\n",
       "  </tbody>\n",
       "</table>\n",
       "</div>"
      ],
      "text/plain": [
       "        count      mean       std        min       25%       50%       75%  \\\n",
       "V1   227845.0 -0.003321  1.963028 -56.407510 -0.922851  0.012663  1.314821   \n",
       "V2   227845.0 -0.001652  1.661178 -72.715728 -0.598040  0.066665  0.804401   \n",
       "V3   227845.0  0.001066  1.516107 -32.965346 -0.889246  0.182170  1.029449   \n",
       "V4   227845.0 -0.000374  1.415061  -5.683171 -0.848884 -0.019309  0.744822   \n",
       "V5   227845.0  0.000877  1.367074 -42.147898 -0.690811 -0.055243  0.610852   \n",
       "V6   227845.0  0.000770  1.325341 -26.160506 -0.767803 -0.273025  0.400298   \n",
       "V7   227845.0 -0.000035  1.220384 -43.557242 -0.554761  0.040409  0.570631   \n",
       "V8   227845.0  0.001625  1.192648 -73.216718 -0.207838  0.022928  0.327854   \n",
       "V9   227845.0 -0.000391  1.097367 -13.434066 -0.643365 -0.050932  0.596671   \n",
       "V10  227845.0 -0.000794  1.087268 -24.588262 -0.535584 -0.092068  0.454152   \n",
       "V11  227845.0  0.002083  1.021904  -4.797473 -0.761131 -0.029443  0.742611   \n",
       "V12  227845.0  0.000010  0.999581 -18.683715 -0.405535  0.139894  0.618511   \n",
       "V13  227845.0  0.000080  0.995449  -5.791881 -0.648764 -0.013522  0.661026   \n",
       "V14  227845.0  0.000928  0.959575 -18.822087 -0.425889  0.051501  0.494565   \n",
       "V15  227845.0 -0.000737  0.916011  -4.498945 -0.584681  0.047049  0.648813   \n",
       "V16  227845.0  0.000433  0.875795 -14.129855 -0.467035  0.066470  0.523828   \n",
       "V17  227845.0 -0.000007  0.851222 -25.162799 -0.483527 -0.065414  0.399023   \n",
       "V18  227845.0 -0.000831  0.838685  -9.498746 -0.499177 -0.003007  0.500374   \n",
       "V19  227845.0 -0.000191  0.812614  -7.213527 -0.456437  0.003772  0.458964   \n",
       "V20  227845.0  0.000671  0.772535 -28.009635 -0.211753 -0.062660  0.133600   \n",
       "V21  227845.0  0.000563  0.734187 -34.830382 -0.228031 -0.028807  0.186852   \n",
       "V22  227845.0  0.001234  0.724544 -10.933144 -0.540792  0.008697  0.529535   \n",
       "V23  227845.0 -0.001002  0.625165 -44.807735 -0.162264 -0.011614  0.147067   \n",
       "V24  227845.0  0.000254  0.606012  -2.836627 -0.354099  0.041212  0.440051   \n",
       "V25  227845.0  0.000218  0.521348 -10.295397 -0.317450  0.016221  0.351214   \n",
       "V26  227845.0 -0.001128  0.482314  -2.604551 -0.327910 -0.053257  0.239885   \n",
       "V27  227845.0 -0.000346  0.400286 -22.565679 -0.070986  0.001315  0.091105   \n",
       "V28  227845.0  0.000498  0.331184 -11.710896 -0.053117  0.011216  0.078458   \n",
       "\n",
       "           max  \n",
       "V1    2.454930  \n",
       "V2   22.057729  \n",
       "V3    9.382558  \n",
       "V4   16.875344  \n",
       "V5   34.801666  \n",
       "V6   22.529298  \n",
       "V7   36.877368  \n",
       "V8   20.007208  \n",
       "V9   15.594995  \n",
       "V10  23.745136  \n",
       "V11  11.669205  \n",
       "V12   7.848392  \n",
       "V13   4.465413  \n",
       "V14  10.526766  \n",
       "V15   5.825654  \n",
       "V16   8.289890  \n",
       "V17   9.253526  \n",
       "V18   5.041069  \n",
       "V19   5.572113  \n",
       "V20  39.420904  \n",
       "V21  27.202839  \n",
       "V22  10.503090  \n",
       "V23  22.528412  \n",
       "V24   4.022866  \n",
       "V25   6.070850  \n",
       "V26   3.463246  \n",
       "V27  12.152401  \n",
       "V28  33.847808  "
      ]
     },
     "execution_count": 13,
     "metadata": {},
     "output_type": "execute_result"
    }
   ],
   "source": [
    "# a) Check all the latent features and parameters with their mean and std.\n",
    "train_data[latent_features].describe().T"
   ]
  },
  {
   "cell_type": "code",
   "execution_count": null,
   "metadata": {},
   "outputs": [],
   "source": []
  },
  {
   "cell_type": "code",
   "execution_count": 14,
   "metadata": {},
   "outputs": [],
   "source": [
    "# b) Connection between Time, Amount, and transaction being fraudulent\n",
    "transactions = train_data[['Time', 'Amount', 'Class']]\n",
    "fraudulent_transactions = transactions[transactions['Class']==1]"
   ]
  },
  {
   "cell_type": "code",
   "execution_count": 15,
   "metadata": {},
   "outputs": [
    {
     "data": {
      "text/html": [
       "<div>\n",
       "<style scoped>\n",
       "    .dataframe tbody tr th:only-of-type {\n",
       "        vertical-align: middle;\n",
       "    }\n",
       "\n",
       "    .dataframe tbody tr th {\n",
       "        vertical-align: top;\n",
       "    }\n",
       "\n",
       "    .dataframe thead th {\n",
       "        text-align: right;\n",
       "    }\n",
       "</style>\n",
       "<table border=\"1\" class=\"dataframe\">\n",
       "  <thead>\n",
       "    <tr style=\"text-align: right;\">\n",
       "      <th></th>\n",
       "      <th>Time</th>\n",
       "      <th>Amount</th>\n",
       "      <th>Class</th>\n",
       "    </tr>\n",
       "  </thead>\n",
       "  <tbody>\n",
       "    <tr>\n",
       "      <th>266</th>\n",
       "      <td>41181.0</td>\n",
       "      <td>11.38</td>\n",
       "      <td>1</td>\n",
       "    </tr>\n",
       "    <tr>\n",
       "      <th>360</th>\n",
       "      <td>93853.0</td>\n",
       "      <td>316.06</td>\n",
       "      <td>1</td>\n",
       "    </tr>\n",
       "    <tr>\n",
       "      <th>421</th>\n",
       "      <td>102572.0</td>\n",
       "      <td>0.01</td>\n",
       "      <td>1</td>\n",
       "    </tr>\n",
       "    <tr>\n",
       "      <th>734</th>\n",
       "      <td>53658.0</td>\n",
       "      <td>0.00</td>\n",
       "      <td>1</td>\n",
       "    </tr>\n",
       "    <tr>\n",
       "      <th>854</th>\n",
       "      <td>8169.0</td>\n",
       "      <td>1.00</td>\n",
       "      <td>1</td>\n",
       "    </tr>\n",
       "  </tbody>\n",
       "</table>\n",
       "</div>"
      ],
      "text/plain": [
       "         Time  Amount  Class\n",
       "266   41181.0   11.38      1\n",
       "360   93853.0  316.06      1\n",
       "421  102572.0    0.01      1\n",
       "734   53658.0    0.00      1\n",
       "854    8169.0    1.00      1"
      ]
     },
     "execution_count": 15,
     "metadata": {},
     "output_type": "execute_result"
    }
   ],
   "source": [
    "# First five rows of the reduced dataset\n",
    "fraudulent_transactions.head()"
   ]
  },
  {
   "cell_type": "code",
   "execution_count": 16,
   "metadata": {},
   "outputs": [],
   "source": [
    "# Allocate time to x-axis and amount to y-axis\n",
    "X = pd.to_datetime(fraudulent_transactions['Time'], unit='s').dt.hour\n",
    "Y = fraudulent_transactions['Amount']"
   ]
  },
  {
   "cell_type": "code",
   "execution_count": 17,
   "metadata": {},
   "outputs": [
    {
     "data": {
      "text/plain": [
       "<matplotlib.collections.PathCollection at 0x255bd844bc8>"
      ]
     },
     "execution_count": 17,
     "metadata": {},
     "output_type": "execute_result"
    },
    {
     "data": {
      "image/png": "[encoded data removed]",
      "text/plain": [
       "<Figure size 432x288 with 1 Axes>"
      ]
     },
     "metadata": {
      "needs_background": "light"
     },
     "output_type": "display_data"
    }
   ],
   "source": [
    "# Plotting our data...\n",
    "plt.scatter(X, Y)"
   ]
  },
  {
   "cell_type": "markdown",
   "metadata": {},
   "source": [
    "We see real pattern between the time and the amount for the fraudulent transactions. They are fairly spread out."
   ]
  },
  {
   "cell_type": "markdown",
   "metadata": {},
   "source": [
    "<h3> 1.2. Check class count for each class </h3>"
   ]
  },
  {
   "cell_type": "code",
   "execution_count": 18,
   "metadata": {},
   "outputs": [
    {
     "data": {
      "text/plain": [
       "0    227451\n",
       "1       394\n",
       "Name: Class, dtype: int64"
      ]
     },
     "execution_count": 18,
     "metadata": {},
     "output_type": "execute_result"
    }
   ],
   "source": [
    "# Target class count\n",
    "train_data['Class'].value_counts()"
   ]
  },
  {
   "cell_type": "markdown",
   "metadata": {},
   "source": [
    "This is dataset is highly unbalanced. Fraudulent transactions account for 0.17%. "
   ]
  },
  {
   "cell_type": "markdown",
   "metadata": {},
   "source": [
    "<h3> 1.3. Undersampling or oversampling</h3>"
   ]
  },
  {
   "cell_type": "markdown",
   "metadata": {},
   "source": [
    "The 'Time' and 'Amount' features are on a different. This can create preferential treatment for the model. That's the reason for scaling using the StandardScaler class."
   ]
  },
  {
   "cell_type": "code",
   "execution_count": 19,
   "metadata": {},
   "outputs": [],
   "source": [
    "sc = StandardScaler()\n",
    "\n",
    "train_data['scaled_amount'] = sc.fit_transform(train_data['Amount'].values.reshape(-1,1))\n",
    "train_data['scaled_time'] = sc.fit_transform(train_data['Time'].values.reshape(-1,1))\n",
    "\n",
    "test_data['scaled_amount'] = sc.fit_transform(test_data['Amount'].values.reshape(-1,1))\n",
    "test_data['scaled_time'] = sc.fit_transform(test_data['Time'].values.reshape(-1,1))\n",
    "\n",
    "test_data_hidden['scaled_amount'] = sc.fit_transform(test_data_hidden['Amount'].values.reshape(-1,1))\n",
    "test_data_hidden['scaled_time'] = sc.fit_transform(test_data_hidden['Time'].values.reshape(-1,1))"
   ]
  },
  {
   "cell_type": "code",
   "execution_count": 20,
   "metadata": {},
   "outputs": [
    {
     "data": {
      "text/html": [
       "<div>\n",
       "<style scoped>\n",
       "    .dataframe tbody tr th:only-of-type {\n",
       "        vertical-align: middle;\n",
       "    }\n",
       "\n",
       "    .dataframe tbody tr th {\n",
       "        vertical-align: top;\n",
       "    }\n",
       "\n",
       "    .dataframe thead th {\n",
       "        text-align: right;\n",
       "    }\n",
       "</style>\n",
       "<table border=\"1\" class=\"dataframe\">\n",
       "  <thead>\n",
       "    <tr style=\"text-align: right;\">\n",
       "      <th></th>\n",
       "      <th>Time</th>\n",
       "      <th>V1</th>\n",
       "      <th>V2</th>\n",
       "      <th>V3</th>\n",
       "      <th>V4</th>\n",
       "      <th>V5</th>\n",
       "      <th>V6</th>\n",
       "      <th>V7</th>\n",
       "      <th>V8</th>\n",
       "      <th>V9</th>\n",
       "      <th>...</th>\n",
       "      <th>V23</th>\n",
       "      <th>V24</th>\n",
       "      <th>V25</th>\n",
       "      <th>V26</th>\n",
       "      <th>V27</th>\n",
       "      <th>V28</th>\n",
       "      <th>Amount</th>\n",
       "      <th>Class</th>\n",
       "      <th>scaled_amount</th>\n",
       "      <th>scaled_time</th>\n",
       "    </tr>\n",
       "  </thead>\n",
       "  <tbody>\n",
       "    <tr>\n",
       "      <th>0</th>\n",
       "      <td>38355.0</td>\n",
       "      <td>1.043949</td>\n",
       "      <td>0.318555</td>\n",
       "      <td>1.045810</td>\n",
       "      <td>2.805989</td>\n",
       "      <td>-0.561113</td>\n",
       "      <td>-0.367956</td>\n",
       "      <td>0.032736</td>\n",
       "      <td>-0.042333</td>\n",
       "      <td>-0.322674</td>\n",
       "      <td>...</td>\n",
       "      <td>0.085328</td>\n",
       "      <td>0.684812</td>\n",
       "      <td>0.318620</td>\n",
       "      <td>-0.204963</td>\n",
       "      <td>0.001662</td>\n",
       "      <td>0.037894</td>\n",
       "      <td>49.67</td>\n",
       "      <td>0</td>\n",
       "      <td>-0.156600</td>\n",
       "      <td>-1.187316</td>\n",
       "    </tr>\n",
       "    <tr>\n",
       "      <th>1</th>\n",
       "      <td>22555.0</td>\n",
       "      <td>-1.665159</td>\n",
       "      <td>0.808440</td>\n",
       "      <td>1.805627</td>\n",
       "      <td>1.903416</td>\n",
       "      <td>-0.821627</td>\n",
       "      <td>0.934790</td>\n",
       "      <td>-0.824802</td>\n",
       "      <td>0.975890</td>\n",
       "      <td>1.747469</td>\n",
       "      <td>...</td>\n",
       "      <td>0.035839</td>\n",
       "      <td>0.147565</td>\n",
       "      <td>-0.529358</td>\n",
       "      <td>-0.566950</td>\n",
       "      <td>-0.595998</td>\n",
       "      <td>-0.220086</td>\n",
       "      <td>16.94</td>\n",
       "      <td>0</td>\n",
       "      <td>-0.288523</td>\n",
       "      <td>-1.519945</td>\n",
       "    </tr>\n",
       "    <tr>\n",
       "      <th>2</th>\n",
       "      <td>2431.0</td>\n",
       "      <td>-0.324096</td>\n",
       "      <td>0.601836</td>\n",
       "      <td>0.865329</td>\n",
       "      <td>-2.138000</td>\n",
       "      <td>0.294663</td>\n",
       "      <td>-1.251553</td>\n",
       "      <td>1.072114</td>\n",
       "      <td>-0.334896</td>\n",
       "      <td>1.071268</td>\n",
       "      <td>...</td>\n",
       "      <td>-0.341505</td>\n",
       "      <td>-0.145791</td>\n",
       "      <td>0.094194</td>\n",
       "      <td>-0.804026</td>\n",
       "      <td>0.229428</td>\n",
       "      <td>-0.021623</td>\n",
       "      <td>1.00</td>\n",
       "      <td>0</td>\n",
       "      <td>-0.352771</td>\n",
       "      <td>-1.943605</td>\n",
       "    </tr>\n",
       "    <tr>\n",
       "      <th>3</th>\n",
       "      <td>86773.0</td>\n",
       "      <td>-0.258270</td>\n",
       "      <td>1.217501</td>\n",
       "      <td>-0.585348</td>\n",
       "      <td>-0.875347</td>\n",
       "      <td>1.222481</td>\n",
       "      <td>-0.311027</td>\n",
       "      <td>1.073860</td>\n",
       "      <td>-0.161408</td>\n",
       "      <td>0.200665</td>\n",
       "      <td>...</td>\n",
       "      <td>0.019316</td>\n",
       "      <td>0.178614</td>\n",
       "      <td>-0.315616</td>\n",
       "      <td>0.096665</td>\n",
       "      <td>0.269740</td>\n",
       "      <td>-0.020635</td>\n",
       "      <td>10.78</td>\n",
       "      <td>0</td>\n",
       "      <td>-0.313351</td>\n",
       "      <td>-0.167996</td>\n",
       "    </tr>\n",
       "    <tr>\n",
       "      <th>4</th>\n",
       "      <td>127202.0</td>\n",
       "      <td>2.142162</td>\n",
       "      <td>-0.494988</td>\n",
       "      <td>-1.936511</td>\n",
       "      <td>-0.818288</td>\n",
       "      <td>-0.025213</td>\n",
       "      <td>-1.027245</td>\n",
       "      <td>-0.151627</td>\n",
       "      <td>-0.305750</td>\n",
       "      <td>-0.869482</td>\n",
       "      <td>...</td>\n",
       "      <td>0.079463</td>\n",
       "      <td>-0.480899</td>\n",
       "      <td>0.023846</td>\n",
       "      <td>-0.279076</td>\n",
       "      <td>-0.030121</td>\n",
       "      <td>-0.043888</td>\n",
       "      <td>39.96</td>\n",
       "      <td>0</td>\n",
       "      <td>-0.195737</td>\n",
       "      <td>0.683136</td>\n",
       "    </tr>\n",
       "  </tbody>\n",
       "</table>\n",
       "<p>5 rows × 33 columns</p>\n",
       "</div>"
      ],
      "text/plain": [
       "       Time        V1        V2        V3        V4        V5        V6  \\\n",
       "0   38355.0  1.043949  0.318555  1.045810  2.805989 -0.561113 -0.367956   \n",
       "1   22555.0 -1.665159  0.808440  1.805627  1.903416 -0.821627  0.934790   \n",
       "2    2431.0 -0.324096  0.601836  0.865329 -2.138000  0.294663 -1.251553   \n",
       "3   86773.0 -0.258270  1.217501 -0.585348 -0.875347  1.222481 -0.311027   \n",
       "4  127202.0  2.142162 -0.494988 -1.936511 -0.818288 -0.025213 -1.027245   \n",
       "\n",
       "         V7        V8        V9  ...       V23       V24       V25       V26  \\\n",
       "0  0.032736 -0.042333 -0.322674  ...  0.085328  0.684812  0.318620 -0.204963   \n",
       "1 -0.824802  0.975890  1.747469  ...  0.035839  0.147565 -0.529358 -0.566950   \n",
       "2  1.072114 -0.334896  1.071268  ... -0.341505 -0.145791  0.094194 -0.804026   \n",
       "3  1.073860 -0.161408  0.200665  ...  0.019316  0.178614 -0.315616  0.096665   \n",
       "4 -0.151627 -0.305750 -0.869482  ...  0.079463 -0.480899  0.023846 -0.279076   \n",
       "\n",
       "        V27       V28  Amount  Class  scaled_amount  scaled_time  \n",
       "0  0.001662  0.037894   49.67      0      -0.156600    -1.187316  \n",
       "1 -0.595998 -0.220086   16.94      0      -0.288523    -1.519945  \n",
       "2  0.229428 -0.021623    1.00      0      -0.352771    -1.943605  \n",
       "3  0.269740 -0.020635   10.78      0      -0.313351    -0.167996  \n",
       "4 -0.030121 -0.043888   39.96      0      -0.195737     0.683136  \n",
       "\n",
       "[5 rows x 33 columns]"
      ]
     },
     "execution_count": 20,
     "metadata": {},
     "output_type": "execute_result"
    }
   ],
   "source": [
    "train_data.head()"
   ]
  },
  {
   "cell_type": "code",
   "execution_count": 21,
   "metadata": {},
   "outputs": [],
   "source": [
    "y = train_data['Class']\n",
    "X = train_data.drop(columns=['Class', 'Time', 'Amount'])"
   ]
  },
  {
   "cell_type": "code",
   "execution_count": 22,
   "metadata": {},
   "outputs": [
    {
     "name": "stdout",
     "output_type": "stream",
     "text": [
      "(227845, 30) (227845,)\n"
     ]
    }
   ],
   "source": [
    "# View the shapes\n",
    "print(X.shape, y.shape)"
   ]
  },
  {
   "cell_type": "code",
   "execution_count": 23,
   "metadata": {},
   "outputs": [],
   "source": [
    "# a. Undersampling or oversampling can be used to tackle the class imbalance problem\n",
    "# undersampling\n",
    "rus = RandomUnderSampler(sampling_strategy='auto', \n",
    "                         random_state=0, \n",
    "                         replacement=True)"
   ]
  },
  {
   "cell_type": "code",
   "execution_count": 24,
   "metadata": {},
   "outputs": [],
   "source": [
    "# Resample using random undersampling technique\n",
    "X_rus, y_rus = rus.fit_resample(X, y)"
   ]
  },
  {
   "cell_type": "code",
   "execution_count": 25,
   "metadata": {},
   "outputs": [
    {
     "data": {
      "text/plain": [
       "1    394\n",
       "0    394\n",
       "Name: Class, dtype: int64"
      ]
     },
     "execution_count": 25,
     "metadata": {},
     "output_type": "execute_result"
    }
   ],
   "source": [
    "# after resampling...value counts\n",
    "y_rus.value_counts()"
   ]
  },
  {
   "cell_type": "code",
   "execution_count": 26,
   "metadata": {},
   "outputs": [],
   "source": [
    "#  b.Oversampling increases the prior probability of imbalanced class and in case of other classifiers, \n",
    "# error gets multiplied as the low-proportionate class is mimicked multiple times.\n",
    "ros = RandomOverSampler(sampling_strategy='auto', \n",
    "                        random_state=0)"
   ]
  },
  {
   "cell_type": "code",
   "execution_count": 27,
   "metadata": {},
   "outputs": [],
   "source": [
    "# Resample using random over sampling technique\n",
    "X_ros, y_ros = ros.fit_resample(X, y)"
   ]
  },
  {
   "cell_type": "code",
   "execution_count": 28,
   "metadata": {},
   "outputs": [
    {
     "data": {
      "text/plain": [
       "1    227451\n",
       "0    227451\n",
       "Name: Class, dtype: int64"
      ]
     },
     "execution_count": 28,
     "metadata": {},
     "output_type": "execute_result"
    }
   ],
   "source": [
    "# value count\n",
    "y_ros.value_counts()"
   ]
  },
  {
   "cell_type": "code",
   "execution_count": 29,
   "metadata": {},
   "outputs": [],
   "source": [
    "# split the data using train_test_split from sklearn.model_selection\n",
    "X_train, X_valid, y_train, y_valid = train_test_split(X_ros, \n",
    "                                                      y_ros, \n",
    "                                                      test_size=.3, \n",
    "                                                      random_state=0)\n"
   ]
  },
  {
   "cell_type": "code",
   "execution_count": 30,
   "metadata": {},
   "outputs": [],
   "source": [
    "# Logistic regression function usng default parameters of the class: C=1.0, penalty='l2', tol=0.0001, solver=\"lbfgs\"\n",
    "def logistic_regression(x_train, x_test, y_train, y_test):\n",
    "    lr = LogisticRegression()\n",
    "    lr.fit(x_train, y_train)\n",
    "    print('Prediction')\n",
    "    pred = lr.predict(x_test)\n",
    "    print('Logistic regression f1 score: {}'.format(f1_score(y_test, pred)))"
   ]
  },
  {
   "cell_type": "markdown",
   "metadata": {},
   "source": [
    "<h3> 1.4. F1-Score </h3>"
   ]
  },
  {
   "cell_type": "code",
   "execution_count": 31,
   "metadata": {},
   "outputs": [
    {
     "name": "stdout",
     "output_type": "stream",
     "text": [
      "Prediction\n",
      "Logistic regression f1 score: 0.9517037751197615\n"
     ]
    }
   ],
   "source": [
    "# Prediction \n",
    "logistic_regression(X_train, X_valid, y_train, y_valid)"
   ]
  },
  {
   "cell_type": "markdown",
   "metadata": {},
   "source": [
    "The logistic regression f1 score is <b>95.17%</b>. "
   ]
  },
  {
   "cell_type": "markdown",
   "metadata": {},
   "source": [
    "<hr>\n",
    "<h2> 2. Modelling Techniques </h2>"
   ]
  },
  {
   "cell_type": "markdown",
   "metadata": {},
   "source": [
    "<h3> 2.a Random Forest Classifier </h3>"
   ]
  },
  {
   "cell_type": "code",
   "execution_count": 32,
   "metadata": {},
   "outputs": [],
   "source": [
    "# a) Random Forest Classifier function\n",
    "def random_forest_classifier(X_train, X_test, y_train, y_test):\n",
    "    \n",
    "    rfc = RandomForestClassifier(n_estimators=200, max_depth=4, random_state=77, class_weight='balanced')\n",
    "    rfc.fit(X_train, y_train)\n",
    "    \n",
    "    print('Test set')\n",
    "    pred = rfc.predict(X_test)\n",
    "    print('Random Forests f1-score: {}'.format(f1_score(y_test, pred)))\n",
    "    "
   ]
  },
  {
   "cell_type": "code",
   "execution_count": 33,
   "metadata": {},
   "outputs": [
    {
     "name": "stdout",
     "output_type": "stream",
     "text": [
      "Test set\n",
      "Random Forests f1-score: 0.9501583673970229\n"
     ]
    }
   ],
   "source": [
    "# call the RDF function above with split datasets\n",
    "random_forest_classifier(X_train, X_valid, y_train, y_valid)\n"
   ]
  },
  {
   "cell_type": "markdown",
   "metadata": {},
   "source": [
    "<h3> 2.b XGBoost </h3>"
   ]
  },
  {
   "cell_type": "code",
   "execution_count": 34,
   "metadata": {},
   "outputs": [],
   "source": [
    "# b) XGBoost function\n",
    "def xgboost(X_train, X_test, y_train, y_test):\n",
    "    \n",
    "    xgb = XGBClassifier()\n",
    "    xgb.fit(X_train, y_train)\n",
    "    \n",
    "    pred = xgb.predict(X_test)\n",
    "    print('XGBoost f1-score: {}'.format(f1_score(y_test, pred)))"
   ]
  },
  {
   "cell_type": "code",
   "execution_count": 35,
   "metadata": {},
   "outputs": [
    {
     "name": "stderr",
     "output_type": "stream",
     "text": [
      "C:\\ProgramData\\Anaconda3\\lib\\site-packages\\xgboost\\sklearn.py:1146: UserWarning: The use of label encoder in XGBClassifier is deprecated and will be removed in a future release. To remove this warning, do the following: 1) Pass option use_label_encoder=False when constructing XGBClassifier object; and 2) Encode your labels (y) as integers starting with 0, i.e. 0, 1, 2, ..., [num_class - 1].\n",
      "  warnings.warn(label_encoder_deprecation_msg, UserWarning)\n"
     ]
    },
    {
     "name": "stdout",
     "output_type": "stream",
     "text": [
      "[08:51:02] WARNING: C:/Users/Administrator/workspace/xgboost-win64_release_1.4.0/src/learner.cc:1095: Starting in XGBoost 1.3.0, the default evaluation metric used with the objective 'binary:logistic' was changed from 'error' to 'logloss'. Explicitly set eval_metric if you'd like to restore the old behavior.\n",
      "XGBoost f1-score: 0.9999632879327435\n"
     ]
    }
   ],
   "source": [
    "# call the XGBoost function above with split datasets\n",
    "xgboost(X_train, X_valid, y_train, y_valid)"
   ]
  },
  {
   "cell_type": "markdown",
   "metadata": {},
   "source": [
    "<h3>Compare the results of 1 with 2 </h3>\n",
    "\n",
    "These are the results: \n",
    "* Random Forests f1-score: 0.95; \n",
    "* XGBoost f1-score: 0.99;\n",
    "\n",
    "The f1-score obtained from XGBoost is far better than the one obtained from RF...as there is a huge increase..."
   ]
  },
  {
   "cell_type": "code",
   "execution_count": null,
   "metadata": {},
   "outputs": [],
   "source": []
  },
  {
   "cell_type": "markdown",
   "metadata": {},
   "source": [
    "<hr>\n",
    "<h2> 3. Applying ANN </h2>"
   ]
  },
  {
   "cell_type": "markdown",
   "metadata": {},
   "source": [
    "<h3> 3.1. Use ANN to identify fradulent and non-fradulent </h3>"
   ]
  },
  {
   "cell_type": "code",
   "execution_count": 36,
   "metadata": {},
   "outputs": [],
   "source": [
    "# 1. Artificial neural network function\n",
    "def neural_network(input_features=None):\n",
    "    inputs = Input(shape=(input_features,), name=\"input\")\n",
    "    x = Dense(128, activation='relu', name=\"hidden_1\")(inputs)\n",
    "    x = Dense( 64, activation='relu', name=\"hidden_2\")(x)\n",
    "    x = Dense( 64, activation='relu', name=\"hidden_3\")(x)\n",
    "    x = Dense( 32, activation='relu', name=\"hidden_4\")(x)\n",
    "    x = Dense( 16, activation='relu', name=\"hidden_5\")(x)\n",
    "    prediction = Dense(1, activation='sigmoid', name=\"final\")(x)\n",
    "    model = Model(inputs=inputs, outputs=prediction)\n",
    "    model.compile(optimizer='adam', loss='binary_crossentropy', metrics=['accuracy'])\n",
    "    return model"
   ]
  },
  {
   "cell_type": "code",
   "execution_count": 37,
   "metadata": {},
   "outputs": [
    {
     "data": {
      "text/plain": [
       "(30,)"
      ]
     },
     "execution_count": 37,
     "metadata": {},
     "output_type": "execute_result"
    }
   ],
   "source": [
    "X_train.shape[1:]"
   ]
  },
  {
   "cell_type": "code",
   "execution_count": 38,
   "metadata": {},
   "outputs": [],
   "source": [
    "ann = neural_network(30)"
   ]
  },
  {
   "cell_type": "code",
   "execution_count": 39,
   "metadata": {},
   "outputs": [
    {
     "name": "stdout",
     "output_type": "stream",
     "text": [
      "Epoch 1/10\n",
      "9951/9951 [==============================] - 23s 2ms/step - loss: 0.0169 - accuracy: 0.9952 - val_loss: 0.0041 - val_accuracy: 0.9993\n",
      "Epoch 2/10\n",
      "9951/9951 [==============================] - 22s 2ms/step - loss: 0.0056 - accuracy: 0.9987 - val_loss: 0.0050 - val_accuracy: 0.9988\n",
      "Epoch 3/10\n",
      "9951/9951 [==============================] - 23s 2ms/step - loss: 0.0041 - accuracy: 0.9991 - val_loss: 0.0019 - val_accuracy: 0.9996\n",
      "Epoch 4/10\n",
      "9951/9951 [==============================] - 26s 3ms/step - loss: 0.0039 - accuracy: 0.9992 - val_loss: 0.0053 - val_accuracy: 0.9986\n",
      "Epoch 5/10\n",
      "9951/9951 [==============================] - 22s 2ms/step - loss: 0.0032 - accuracy: 0.9994 - val_loss: 0.0018 - val_accuracy: 0.9997\n",
      "Epoch 6/10\n",
      "9951/9951 [==============================] - 22s 2ms/step - loss: 0.0027 - accuracy: 0.9995 - val_loss: 0.0013 - val_accuracy: 0.9998\n",
      "Epoch 7/10\n",
      "9951/9951 [==============================] - 20s 2ms/step - loss: 0.0023 - accuracy: 0.9996 - val_loss: 0.0024 - val_accuracy: 0.9998\n",
      "Epoch 8/10\n",
      "9951/9951 [==============================] - 24s 2ms/step - loss: 0.0023 - accuracy: 0.9996 - val_loss: 0.0033 - val_accuracy: 0.9999\n",
      "Epoch 9/10\n",
      "9951/9951 [==============================] - 22s 2ms/step - loss: 0.0023 - accuracy: 0.9996 - val_loss: 0.0015 - val_accuracy: 0.9998\n",
      "Epoch 10/10\n",
      "9951/9951 [==============================] - 25s 2ms/step - loss: 0.0019 - accuracy: 0.9997 - val_loss: 0.0092 - val_accuracy: 0.9986\n"
     ]
    }
   ],
   "source": [
    "history_1 = ann.fit(X_train, y_train, epochs=10, validation_data=(X_valid, y_valid))"
   ]
  },
  {
   "cell_type": "code",
   "execution_count": 40,
   "metadata": {},
   "outputs": [],
   "source": [
    "# evaluate on test data (test_data_hidden)\n",
    "y_pred_test = ann.predict(test_data.drop(columns=['Time', 'Amount']))"
   ]
  },
  {
   "cell_type": "code",
   "execution_count": 41,
   "metadata": {},
   "outputs": [
    {
     "data": {
      "text/plain": [
       "array([[3.4381823e-31],\n",
       "       [9.1610543e-24],\n",
       "       [0.0000000e+00],\n",
       "       ...,\n",
       "       [0.0000000e+00],\n",
       "       [0.0000000e+00],\n",
       "       [0.0000000e+00]], dtype=float32)"
      ]
     },
     "execution_count": 41,
     "metadata": {},
     "output_type": "execute_result"
    }
   ],
   "source": [
    "y_pred_test"
   ]
  },
  {
   "cell_type": "markdown",
   "metadata": {},
   "source": [
    "<h3> 3.2. Try out Dropout for ANN </h3>"
   ]
  },
  {
   "cell_type": "code",
   "execution_count": 42,
   "metadata": {},
   "outputs": [],
   "source": [
    "# 2. Try out Dropout for ANN\n",
    "def neural_network_dropout(input_features = None):\n",
    "    inputs = Input(shape=(input_features,), name=\"input\")\n",
    "    x = Dense(128, activation='relu', name=\"hidden_1\")(inputs)\n",
    "    x = Dropout(0.5)(x)\n",
    "    x = Dense( 64, activation='relu', name=\"hidden_2\")(x)\n",
    "    x = Dropout(0.5)(x)\n",
    "    x = Dense( 64, activation='relu', name=\"hidden_3\")(x)\n",
    "    x = Dropout(0.5)(x)\n",
    "    x = Dense( 32, activation='relu', name=\"hidden_4\")(x)\n",
    "    x = Dropout(0.5)(x)\n",
    "    x = Dense( 16, activation='relu', name=\"hidden_5\")(x)\n",
    "    prediction = Dense(1, activation='sigmoid', name=\"final\")(x)\n",
    "    model = Model(inputs=inputs, outputs=prediction)\n",
    "    model.compile(optimizer='adam', loss='binary_crossentropy', metrics=['accuracy'])\n",
    "    return model\n"
   ]
  },
  {
   "cell_type": "code",
   "execution_count": 43,
   "metadata": {},
   "outputs": [],
   "source": [
    "ann_drop = neural_network_dropout(30)"
   ]
  },
  {
   "cell_type": "code",
   "execution_count": 44,
   "metadata": {},
   "outputs": [
    {
     "name": "stdout",
     "output_type": "stream",
     "text": [
      "Epoch 1/10\n",
      "9951/9951 [==============================] - 30s 3ms/step - loss: 0.0714 - accuracy: 0.9743 - val_loss: 0.0113 - val_accuracy: 0.9976\n",
      "Epoch 2/10\n",
      "9951/9951 [==============================] - 28s 3ms/step - loss: 0.0225 - accuracy: 0.9943 - val_loss: 0.0078 - val_accuracy: 0.9983\n",
      "Epoch 3/10\n",
      "9951/9951 [==============================] - 39s 4ms/step - loss: 0.0170 - accuracy: 0.9959 - val_loss: 0.0067 - val_accuracy: 0.9991\n",
      "Epoch 4/10\n",
      "9951/9951 [==============================] - 26s 3ms/step - loss: 0.0141 - accuracy: 0.9967 - val_loss: 0.0056 - val_accuracy: 0.9991\n",
      "Epoch 5/10\n",
      "9951/9951 [==============================] - 27s 3ms/step - loss: 0.0127 - accuracy: 0.9971 - val_loss: 0.0045 - val_accuracy: 0.9994\n",
      "Epoch 6/10\n",
      "9951/9951 [==============================] - 26s 3ms/step - loss: 0.0117 - accuracy: 0.9974 - val_loss: 0.0035 - val_accuracy: 0.9993\n",
      "Epoch 7/10\n",
      "9951/9951 [==============================] - 27s 3ms/step - loss: 0.0107 - accuracy: 0.9978 - val_loss: 0.0030 - val_accuracy: 0.9995\n",
      "Epoch 8/10\n",
      "9951/9951 [==============================] - 27s 3ms/step - loss: 0.0105 - accuracy: 0.9977 - val_loss: 0.0044 - val_accuracy: 0.9996\n",
      "Epoch 9/10\n",
      "9951/9951 [==============================] - 27s 3ms/step - loss: 0.0094 - accuracy: 0.9980 - val_loss: 0.0034 - val_accuracy: 0.9993\n",
      "Epoch 10/10\n",
      "9951/9951 [==============================] - 25s 3ms/step - loss: 0.0086 - accuracy: 0.9981 - val_loss: 0.0021 - val_accuracy: 0.9997\n"
     ]
    }
   ],
   "source": [
    "history_2 = ann_drop.fit(X_train, y_train, epochs=10, validation_data=(X_valid, y_valid))"
   ]
  },
  {
   "cell_type": "code",
   "execution_count": 45,
   "metadata": {},
   "outputs": [
    {
     "data": {
      "image/png": "[encoded data removed]",
      "text/plain": [
       "<Figure size 432x288 with 1 Axes>"
      ]
     },
     "metadata": {
      "needs_background": "light"
     },
     "output_type": "display_data"
    }
   ],
   "source": [
    "# Plotting...\n",
    "val_acc = accuracy = history_1.history['val_accuracy']\n",
    "accuracy = history_1.history['accuracy']\n",
    "\n",
    "val_loss = accuracy = history_1.history['val_loss']\n",
    "loss = history_1.history['loss']\n",
    "\n",
    "plt.plot(loss)\n",
    "plt.plot(val_loss)\n",
    "plt.title('Model Loss')\n",
    "plt.xlabel('Epoch')\n",
    "plt.ylabel('Loss')\n",
    "plt.legend(['train', 'test'], loc='best')\n",
    "plt.show()"
   ]
  },
  {
   "cell_type": "markdown",
   "metadata": {},
   "source": [
    "<h3> 3.3. Find the best setting of neural network using GridSearch, CV and Random search </h3>"
   ]
  },
  {
   "cell_type": "code",
   "execution_count": 46,
   "metadata": {},
   "outputs": [],
   "source": [
    "# Sequential Neural network function\n",
    "def build_model():\n",
    "    # create model\n",
    "    model = Sequential()\n",
    "    model.add(Dense(128, input_dim=30, activation='relu'))\n",
    "    model.add(Dense(64, activation='relu'))\n",
    "    model.add(Dense(64, activation='relu'))\n",
    "    model.add(Dense(32, activation='relu'))\n",
    "    model.add(Dense(16, activation='relu'))\n",
    "    model.add(Dense(1, activation='sigmoid'))\n",
    "    # Compile model\n",
    "    model.compile(loss='binary_crossentropy', optimizer='adam', metrics=['accuracy'])\n",
    "    return model"
   ]
  },
  {
   "cell_type": "code",
   "execution_count": 47,
   "metadata": {},
   "outputs": [
    {
     "name": "stderr",
     "output_type": "stream",
     "text": [
      "C:\\ProgramData\\Anaconda3\\lib\\site-packages\\ipykernel_launcher.py:1: DeprecationWarning: KerasClassifier is deprecated, use Sci-Keras (https://github.com/adriangb/scikeras) instead.\n",
      "  \"\"\"Entry point for launching an IPython kernel.\n"
     ]
    }
   ],
   "source": [
    "model = KerasClassifier(build_fn=build_model, verbose=1, shuffle=False)"
   ]
  },
  {
   "cell_type": "code",
   "execution_count": 48,
   "metadata": {},
   "outputs": [],
   "source": [
    "learning_rate = [0.01, 0.5, 1]\n",
    "epochs = [10, 20]\n",
    "batch_size = [100, 200, 300]"
   ]
  },
  {
   "cell_type": "code",
   "execution_count": 49,
   "metadata": {},
   "outputs": [],
   "source": [
    "param_grid = dict(batch_size=batch_size, epochs=epochs)"
   ]
  },
  {
   "cell_type": "code",
   "execution_count": 50,
   "metadata": {},
   "outputs": [],
   "source": [
    "grid_search = GridSearchCV(estimator=model, param_grid=param_grid, cv=5, n_jobs=-1)"
   ]
  },
  {
   "cell_type": "code",
   "execution_count": 51,
   "metadata": {},
   "outputs": [
    {
     "name": "stdout",
     "output_type": "stream",
     "text": [
      "Epoch 1/20\n",
      "1062/1062 [==============================] - 3s 2ms/step - loss: 0.0287 - accuracy: 0.9907\n",
      "Epoch 2/20\n",
      "1062/1062 [==============================] - 3s 3ms/step - loss: 0.0047 - accuracy: 0.9990\n",
      "Epoch 3/20\n",
      "1062/1062 [==============================] - 3s 3ms/step - loss: 0.0033 - accuracy: 0.9993\n",
      "Epoch 4/20\n",
      "1062/1062 [==============================] - 3s 3ms/step - loss: 0.0030 - accuracy: 0.9994\n",
      "Epoch 5/20\n",
      "1062/1062 [==============================] - 4s 4ms/step - loss: 0.0030 - accuracy: 0.9994\n",
      "Epoch 6/20\n",
      "1062/1062 [==============================] - 4s 4ms/step - loss: 0.0023 - accuracy: 0.9996\n",
      "Epoch 7/20\n",
      "1062/1062 [==============================] - 4s 4ms/step - loss: 0.0020 - accuracy: 0.9996\n",
      "Epoch 8/20\n",
      "1062/1062 [==============================] - 4s 4ms/step - loss: 0.0020 - accuracy: 0.9996\n",
      "Epoch 9/20\n",
      "1062/1062 [==============================] - 4s 3ms/step - loss: 0.0019 - accuracy: 0.9996\n",
      "Epoch 10/20\n",
      "1062/1062 [==============================] - 4s 4ms/step - loss: 0.0018 - accuracy: 0.9996\n",
      "Epoch 11/20\n",
      "1062/1062 [==============================] - 4s 3ms/step - loss: 0.0011 - accuracy: 0.9998\n",
      "Epoch 12/20\n",
      "1062/1062 [==============================] - 4s 4ms/step - loss: 0.0017 - accuracy: 0.9997\n",
      "Epoch 13/20\n",
      "1062/1062 [==============================] - 4s 4ms/step - loss: 0.0014 - accuracy: 0.9997\n",
      "Epoch 14/20\n",
      "1062/1062 [==============================] - 3s 3ms/step - loss: 0.0012 - accuracy: 0.9997\n",
      "Epoch 15/20\n",
      "1062/1062 [==============================] - 3s 3ms/step - loss: 0.0011 - accuracy: 0.9998\n",
      "Epoch 16/20\n",
      "1062/1062 [==============================] - 3s 3ms/step - loss: 9.9174e-04 - accuracy: 0.9998\n",
      "Epoch 17/20\n",
      "1062/1062 [==============================] - 3s 3ms/step - loss: 0.0011 - accuracy: 0.9998\n",
      "Epoch 18/20\n",
      "1062/1062 [==============================] - 3s 3ms/step - loss: 6.6645e-04 - accuracy: 0.9999\n",
      "Epoch 19/20\n",
      "1062/1062 [==============================] - 4s 3ms/step - loss: 0.0013 - accuracy: 0.9998\n",
      "Epoch 20/20\n",
      "1062/1062 [==============================] - 4s 4ms/step - loss: 9.1799e-04 - accuracy: 0.9998\n"
     ]
    }
   ],
   "source": [
    "# Fit the gridsearch instance\n",
    "results_gs = grid_search.fit(X_train, y_train)"
   ]
  },
  {
   "cell_type": "code",
   "execution_count": 52,
   "metadata": {},
   "outputs": [
    {
     "data": {
      "text/plain": [
       "{'batch_size': 300, 'epochs': 20}"
      ]
     },
     "execution_count": 52,
     "metadata": {},
     "output_type": "execute_result"
    }
   ],
   "source": [
    "# Get the best parameters of the model\n",
    "results_gs.best_params_"
   ]
  },
  {
   "cell_type": "code",
   "execution_count": 53,
   "metadata": {},
   "outputs": [],
   "source": [
    "# parameters of the randomized search\n",
    "#grid_search_rn = RandomizedSearchCV(estimator=model, param_grid=param_grid, cv=5, n_jobs=-1)"
   ]
  },
  {
   "cell_type": "code",
   "execution_count": 54,
   "metadata": {},
   "outputs": [],
   "source": [
    "# Fit the randomized instance\n",
    "#results_rn = grid_search_rn.fit(X_train, y_train)\n"
   ]
  },
  {
   "cell_type": "code",
   "execution_count": null,
   "metadata": {},
   "outputs": [],
   "source": []
  },
  {
   "cell_type": "markdown",
   "metadata": {},
   "source": [
    "<h3> 3.4 Anomaly Detection </h3>"
   ]
  },
  {
   "cell_type": "markdown",
   "metadata": {},
   "source": [
    "<h2> Anomaly Detection </h2>"
   ]
  },
  {
   "cell_type": "markdown",
   "metadata": {},
   "source": [
    "We assume that our dataset is gaussian or multivariate gaussian. \n",
    "That is a dataset with a mean centered around zero and standard deviation one."
   ]
  },
  {
   "cell_type": "code",
   "execution_count": 55,
   "metadata": {},
   "outputs": [],
   "source": [
    "# Fraudulent transactions vs valid one\n",
    "fraudulent_transactions = transactions[transactions['Class']==1]\n",
    "valid_transactions = transactions[transactions['Class']==0]\n",
    "fraud_fraction = len(fraudulent_transactions)/float(len(valid_transactions))"
   ]
  },
  {
   "cell_type": "code",
   "execution_count": 56,
   "metadata": {},
   "outputs": [
    {
     "name": "stderr",
     "output_type": "stream",
     "text": [
      "C:\\ProgramData\\Anaconda3\\lib\\site-packages\\sklearn\\base.py:451: UserWarning: X does not have valid feature names, but IsolationForest was fitted with feature names\n",
      "  \"X does not have valid feature names, but\"\n"
     ]
    }
   ],
   "source": [
    "# Let's use again the split datasets\n",
    "# X_train, X_valid, y_train, y_valid\n",
    "\n",
    "isolation_forest = IsolationForest(max_samples=len(X_train),contamination=fraud_fraction,random_state=1, n_jobs=4)\n",
    "isolation_forest.fit(X_train)\n",
    "score = isolation_forest.decision_function(X_train)\n",
    "y_pred = isolation_forest.predict(X_valid)"
   ]
  },
  {
   "cell_type": "code",
   "execution_count": 57,
   "metadata": {},
   "outputs": [
    {
     "data": {
      "image/png": "[encoded data removed]",
      "text/plain": [
       "<Figure size 432x288 with 1 Axes>"
      ]
     },
     "metadata": {
      "needs_background": "light"
     },
     "output_type": "display_data"
    }
   ],
   "source": [
    "# get the parameters of the threshold using the roc_curve class\n",
    "fpr, tpr, thresholds = roc_curve(y_valid,y_pred)\n",
    "\n",
    "# plot FPR against TPR...\n",
    "plt.plot(fpr, tpr, 'k-', lw=2)\n",
    "plt.xlabel('FPR')\n",
    "plt.ylabel('TPR')\n",
    "plt.show()"
   ]
  },
  {
   "cell_type": "code",
   "execution_count": 58,
   "metadata": {},
   "outputs": [
    {
     "data": {
      "text/plain": [
       "array([-0.36582589, -0.34422631, -0.39984419, ..., -0.3536188 ,\n",
       "       -0.40041809, -0.39519391])"
      ]
     },
     "execution_count": 58,
     "metadata": {},
     "output_type": "execute_result"
    }
   ],
   "source": [
    "# isolation_forest method\n",
    "isolation_forest.score_samples(X_train)"
   ]
  },
  {
   "cell_type": "code",
   "execution_count": 59,
   "metadata": {},
   "outputs": [
    {
     "data": {
      "text/plain": [
       "array([0.19686618, 0.21846576, 0.16284788, ..., 0.20907327, 0.16227398,\n",
       "       0.16749815])"
      ]
     },
     "execution_count": 59,
     "metadata": {},
     "output_type": "execute_result"
    }
   ],
   "source": [
    "# decision_function method\n",
    "isolation_forest.decision_function(X_train)"
   ]
  },
  {
   "cell_type": "code",
   "execution_count": 60,
   "metadata": {},
   "outputs": [],
   "source": [
    "y_score = -isolation_forest.decision_function(X_train)"
   ]
  },
  {
   "cell_type": "code",
   "execution_count": 61,
   "metadata": {},
   "outputs": [
    {
     "data": {
      "text/plain": [
       "0.9072299978811857"
      ]
     },
     "execution_count": 61,
     "metadata": {},
     "output_type": "execute_result"
    }
   ],
   "source": [
    "roc_auc_score(y_train, y_score)"
   ]
  },
  {
   "cell_type": "markdown",
   "metadata": {},
   "source": [
    "<b>Our threshold for anomaly detection is 90.72%</b>"
   ]
  },
  {
   "cell_type": "code",
   "execution_count": null,
   "metadata": {},
   "outputs": [],
   "source": []
  },
  {
   "cell_type": "markdown",
   "metadata": {},
   "source": [
    "<hr>\n",
    "<h2> 4. Inference and Observations </h2>"
   ]
  },
  {
   "cell_type": "markdown",
   "metadata": {},
   "source": [
    "<h3> 4.1. Visualize the scores </h3>"
   ]
  },
  {
   "cell_type": "code",
   "execution_count": 62,
   "metadata": {},
   "outputs": [],
   "source": [
    "fraudulent_transactions = transactions[transactions['Class']==1]\n",
    "valid_transactions = transactions[transactions['Class']==0]"
   ]
  },
  {
   "cell_type": "code",
   "execution_count": 63,
   "metadata": {},
   "outputs": [
    {
     "data": {
      "text/plain": [
       "<matplotlib.axes._subplots.AxesSubplot at 0x255bffdccc8>"
      ]
     },
     "execution_count": 63,
     "metadata": {},
     "output_type": "execute_result"
    },
    {
     "data": {
      "image/png": "[encoded data removed]",
      "text/plain": [
       "<Figure size 432x288 with 1 Axes>"
      ]
     },
     "metadata": {
      "needs_background": "light"
     },
     "output_type": "display_data"
    }
   ],
   "source": [
    "# orginal dataset\n",
    "transactions['Class'].hist()"
   ]
  },
  {
   "cell_type": "code",
   "execution_count": 64,
   "metadata": {},
   "outputs": [],
   "source": [
    "X_test_data_hidden = test_data_hidden.drop(columns=['Class', 'Time', 'Amount'])"
   ]
  },
  {
   "cell_type": "code",
   "execution_count": 65,
   "metadata": {},
   "outputs": [],
   "source": [
    "y_pred_hidden = isolation_forest.predict(X_test_data_hidden)"
   ]
  },
  {
   "cell_type": "code",
   "execution_count": 66,
   "metadata": {},
   "outputs": [],
   "source": [
    "y_pred_hidden = pd.Series(y_pred_hidden)"
   ]
  },
  {
   "cell_type": "code",
   "execution_count": 67,
   "metadata": {},
   "outputs": [
    {
     "data": {
      "text/plain": [
       "<matplotlib.axes._subplots.AxesSubplot at 0x255c00638c8>"
      ]
     },
     "execution_count": 67,
     "metadata": {},
     "output_type": "execute_result"
    },
    {
     "data": {
      "image/png": "[encoded data removed]",
      "text/plain": [
       "<Figure size 432x288 with 1 Axes>"
      ]
     },
     "metadata": {
      "needs_background": "light"
     },
     "output_type": "display_data"
    }
   ],
   "source": [
    "y_pred_hidden.hist()"
   ]
  },
  {
   "cell_type": "code",
   "execution_count": 68,
   "metadata": {},
   "outputs": [
    {
     "data": {
      "text/plain": [
       " 1    56915\n",
       "-1       47\n",
       "dtype: int64"
      ]
     },
     "execution_count": 68,
     "metadata": {},
     "output_type": "execute_result"
    }
   ],
   "source": [
    "y_pred_hidden.value_counts()"
   ]
  },
  {
   "cell_type": "code",
   "execution_count": null,
   "metadata": {},
   "outputs": [],
   "source": []
  },
  {
   "cell_type": "markdown",
   "metadata": {},
   "source": [
    "<h3> 4.2. Find out the threshold value </h3>"
   ]
  },
  {
   "cell_type": "markdown",
   "metadata": {},
   "source": [
    "According to the algorithm above, the threshold for anomaly detection is 90.72%"
   ]
  },
  {
   "cell_type": "markdown",
   "metadata": {},
   "source": [
    "This is a highly umbalanded dataset. Oversampling or undersampling techniques help in dealing with such datasets. "
   ]
  }
 ],
 "metadata": {
  "kernelspec": {
   "display_name": "Python 3",
   "language": "python",
   "name": "python3"
  },
  "language_info": {
   "codemirror_mode": {
    "name": "ipython",
    "version": 3
   },
   "file_extension": ".py",
   "mimetype": "text/x-python",
   "name": "python",
   "nbconvert_exporter": "python",
   "pygments_lexer": "ipython3",
   "version": "3.7.6"
  }
 },
 "nbformat": 4,
 "nbformat_minor": 4
}
